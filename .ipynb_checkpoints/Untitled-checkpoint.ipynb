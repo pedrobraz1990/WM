{
 "cells": [
  {
   "cell_type": "code",
   "execution_count": 3,
   "metadata": {
    "collapsed": false
   },
   "outputs": [
    {
     "name": "stdout",
     "output_type": "stream",
     "text": [
      "[ 0.03937555  0.0691519   0.08358087  0.0902724   0.0430281   0.06767693\n",
      "  0.07560047]\n",
      "[[ 469.31464477]]\n",
      "[[ 0.03209619]]\n",
      "[[ 0.02684846  0.01658941  0.01984032  0.02328463  0.0154715   0.01718826\n",
      "   0.01538412]\n",
      " [ 0.01658941  0.04317922  0.03497285  0.03756068  0.01384828  0.02589376\n",
      "   0.03098063]\n",
      " [ 0.01984032  0.03497285  0.06440047  0.06037302  0.01937372  0.04074307\n",
      "   0.03243021]\n",
      " [ 0.02328463  0.03756068  0.06037302  0.07627784  0.02106893  0.04414217\n",
      "   0.03453501]\n",
      " [ 0.0154715   0.01384828  0.01937372  0.02106893  0.04629645  0.01785272\n",
      "   0.01259603]\n",
      " [ 0.01718826  0.02589376  0.04074307  0.04414217  0.01785272  0.04199292\n",
      "   0.02558455]\n",
      " [ 0.01538412  0.03098063  0.03243021  0.03453501  0.01259603  0.02558455\n",
      "   0.0366638 ]]\n"
     ]
    }
   ],
   "source": [
    "# Black-Litterman example code for python (hl.py)\n",
    "# Copyright (c) Jay Walters, blacklitterman.org, 2012.\n",
    "#\n",
    "# Redistribution and use in source and binary forms, \n",
    "# with or without modification, are permitted provided \n",
    "# that the following conditions are met:\n",
    "#\n",
    "# Redistributions of source code must retain the above \n",
    "# copyright notice, this list of conditions and the following \n",
    "# disclaimer.\n",
    "# \n",
    "# Redistributions in binary form must reproduce the above \n",
    "# copyright notice, this list of conditions and the following \n",
    "# disclaimer in the documentation and/or other materials \n",
    "# provided with the distribution.\n",
    "#  \n",
    "# Neither the name of blacklitterman.org nor the names of its\n",
    "# contributors may be used to endorse or promote products \n",
    "# derived from this software without specific prior written\n",
    "# permission.\n",
    "#  \n",
    "# THIS SOFTWARE IS PROVIDED BY THE COPYRIGHT HOLDERS AND \n",
    "# CONTRIBUTORS \"AS IS\" AND ANY EXPRESS OR IMPLIED WARRANTIES, \n",
    "# INCLUDING, BUT NOT LIMITED TO, THE IMPLIED WARRANTIES OF \n",
    "# MERCHANTABILITY AND FITNESS FOR A PARTICULAR PURPOSE ARE \n",
    "# DISCLAIMED. IN NO EVENT SHALL THE COPYRIGHT OWNER OR \n",
    "# CONTRIBUTORS BE LIABLE FOR ANY DIRECT, INDIRECT, INCIDENTAL, \n",
    "# SPECIAL, EXEMPLARY, OR CONSEQUENTIAL DAMAGES (INCLUDING, \n",
    "# BUT NOT LIMITED TO, PROCUREMENT OF SUBSTITUTE GOODS OR \n",
    "# SERVICES; LOSS OF USE, DATA, OR PROFITS; OR BUSINESS \n",
    "# INTERRUPTION) HOWEVER CAUSED AND ON ANY THEORY OF LIABILITY, \n",
    "# WHETHER IN CONTRACT, STRICT LIABILITY, OR TORT (INCLUDING \n",
    "# NEGLIGENCE OR OTHERWISE) ARISING IN ANY WAY OUT OF THE USE \n",
    "# OF THIS SOFTWARE, EVEN IF ADVISED OF THE POSSIBILITY OF SUCH \n",
    "# DAMAGE.\n",
    "#\n",
    "# This program uses the examples from the paper \"The Intuition \n",
    "# Behind Black-Litterman Model  Portfolios\", by He and Litterman,\n",
    "# 1999.  You can find a copy of this  paper at the following url.\n",
    "#     http://papers.ssrn.com/sol3/papers.cfm?abstract_id=334304\n",
    "#\n",
    "# For more details on the Black-Litterman model you can also view\n",
    "# \"The BlackLitterman Model: A Detailed Exploration\", by this author\n",
    "# at the following url.\n",
    "#     http://papers.ssrn.com/sol3/papers.cfm?abstract_id=1314585\n",
    "#\n",
    "\n",
    "import numpy as np\n",
    "from scipy import linalg\n",
    "\n",
    "# blacklitterman\n",
    "#   This function performs the Black-Litterman blending of the prior\n",
    "#   and the views into a new posterior estimate of the returns as\n",
    "#   described in the paper by He and Litterman.\n",
    "# Inputs\n",
    "#   delta  - Risk tolerance from the equilibrium portfolio\n",
    "#   weq    - Weights of the assets in the equilibrium portfolio\n",
    "#   sigma  - Prior covariance matrix\n",
    "#   tau    - Coefficiet of uncertainty in the prior estimate of the mean (pi)\n",
    "#   P      - Pick matrix for the view(s)\n",
    "#   Q      - Vector of view returns\n",
    "#   Omega  - Matrix of variance of the views (diagonal)\n",
    "# Outputs\n",
    "#   Er     - Posterior estimate of the mean returns\n",
    "#   w      - Unconstrained weights computed given the Posterior estimates\n",
    "#            of the mean and covariance of returns.\n",
    "#   lambda - A measure of the impact of each view on the posterior estimates.\n",
    "#\n",
    "def blacklitterman(delta, weq, sigma, tau, P, Q, Omega):\n",
    "  # Reverse optimize and back out the equilibrium returns\n",
    "  # This is formula (12) page 6.\n",
    "  pi = weq.dot(sigma * delta)\n",
    "  print(pi)\n",
    "  # We use tau * sigma many places so just compute it once\n",
    "  ts = tau * sigma\n",
    "  # Compute posterior estimate of the mean\n",
    "  # This is a simplified version of formula (8) on page 4.\n",
    "  middle = linalg.inv(np.dot(np.dot(P,ts),P.T) + Omega)\n",
    "  print(middle)\n",
    "  print(Q-np.expand_dims(np.dot(P,pi.T),axis=1))\n",
    "  er = np.expand_dims(pi,axis=0).T + np.dot(np.dot(np.dot(ts,P.T),middle),(Q - np.expand_dims(np.dot(P,pi.T),axis=1)))\n",
    "  # Compute posterior estimate of the uncertainty in the mean\n",
    "  # This is a simplified and combined version of formulas (9) and (15)\n",
    "  posteriorSigma = sigma + ts - ts.dot(P.T).dot(middle).dot(P).dot(ts)\n",
    "  print(posteriorSigma)\n",
    "  # Compute posterior weights based on uncertainty in mean\n",
    "  w = er.T.dot(linalg.inv(delta * posteriorSigma)).T\n",
    "  # Compute lambda value\n",
    "  # We solve for lambda from formula (17) page 7, rather than formula (18)\n",
    "  # just because it is less to type, and we've already computed w*.\n",
    "  lmbda = np.dot(linalg.pinv(P).T,(w.T * (1 + tau) - weq).T)\n",
    "  return [er, w, lmbda]\n",
    "\n",
    "# Function to display the results of a black-litterman shrinkage\n",
    "# Inputs\n",
    "#   title\t- Displayed at top of output\n",
    "#   assets\t- List of assets\n",
    "#   res\t\t- Li\n",
    "\n",
    "\n",
    "\n",
    "# Take the values from He & Litterman, 1999.\n",
    "weq = np.array([0.016,0.022,0.052,0.055,0.116,0.124,0.615])\n",
    "C = np.array([[ 1.000, 0.488, 0.478, 0.515, 0.439, 0.512, 0.491],\n",
    "      [0.488, 1.000, 0.664, 0.655, 0.310, 0.608, 0.779],\n",
    "      [0.478, 0.664, 1.000, 0.861, 0.355, 0.783, 0.668],\n",
    "      [0.515, 0.655, 0.861, 1.000, 0.354, 0.777, 0.653],\n",
    "      [0.439, 0.310, 0.355, 0.354, 1.000, 0.405, 0.306],\n",
    "      [0.512, 0.608, 0.783, 0.777, 0.405, 1.000, 0.652],\n",
    "      [0.491, 0.779, 0.668, 0.653, 0.306, 0.652, 1.000]])\n",
    "Sigma = np.array([0.160, 0.203, 0.248, 0.271, 0.210, 0.200, 0.187])\n",
    "refPi = np.array([0.039, 0.069, 0.084, 0.090, 0.043, 0.068, 0.076])\n",
    "assets= {'Australia','Canada   ','France   ','Germany  ','Japan    ','UK       ','USA      '}\n",
    "\n",
    "# Equilibrium covariance matrix\n",
    "V = np.multiply(np.outer(Sigma,Sigma), C)\n",
    "#print(V)\n",
    "\n",
    "# Risk aversion of the market \n",
    "delta = 2.5\n",
    "\n",
    "# Coefficient of uncertainty in the prior estimate of the mean\n",
    "# from footnote (8) on page 11\n",
    "tau = 0.05\n",
    "tauV = tau * V\n",
    "\n",
    "# Define view 1\n",
    "# Germany will outperform the other European markets by 5%\n",
    "# Market cap weight the P matrix\n",
    "# Results should match Table 4, Page 21\n",
    "P1 = np.array([0, 0, -.295, 1.00, 0, -.705, 0 ])\n",
    "Q1 = np.array([0.05])\n",
    "P=np.array([P1])\n",
    "Q=np.array([Q1]);\n",
    "Omega = np.dot(np.dot(P,tauV),P.T) * np.eye(Q.shape[0])\n",
    "res = blacklitterman(delta, weq, V, tau, P, Q, Omega)\n",
    "\n",
    "\n"
   ]
  },
  {
   "cell_type": "code",
   "execution_count": 13,
   "metadata": {
    "collapsed": false
   },
   "outputs": [
    {
     "data": {
      "text/plain": [
       "array([[ 0.00106538]])"
      ]
     },
     "execution_count": 13,
     "metadata": {},
     "output_type": "execute_result"
    }
   ],
   "source": [
    "Omega"
   ]
  },
  {
   "cell_type": "code",
   "execution_count": 14,
   "metadata": {
    "collapsed": false
   },
   "outputs": [
    {
     "data": {
      "text/plain": [
       "(1, 7)"
      ]
     },
     "execution_count": 14,
     "metadata": {},
     "output_type": "execute_result"
    }
   ],
   "source": [
    "P.shape"
   ]
  },
  {
   "cell_type": "code",
   "execution_count": null,
   "metadata": {
    "collapsed": true
   },
   "outputs": [],
   "source": []
  }
 ],
 "metadata": {
  "kernelspec": {
   "display_name": "Python 3",
   "language": "python",
   "name": "python3"
  },
  "language_info": {
   "codemirror_mode": {
    "name": "ipython",
    "version": 3
   },
   "file_extension": ".py",
   "mimetype": "text/x-python",
   "name": "python",
   "nbconvert_exporter": "python",
   "pygments_lexer": "ipython3",
   "version": "3.5.1"
  }
 },
 "nbformat": 4,
 "nbformat_minor": 0
}
