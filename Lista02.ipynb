{
 "cells": [
  {
   "cell_type": "code",
   "execution_count": 1,
   "metadata": {
    "collapsed": true
   },
   "outputs": [],
   "source": [
    "%matplotlib inline\n",
    "import statsmodels.api as sm\n",
    "import numpy as np\n",
    "import pandas as pd"
   ]
  },
  {
   "cell_type": "code",
   "execution_count": 2,
   "metadata": {
    "collapsed": false
   },
   "outputs": [],
   "source": [
    "data = pd.read_csv('Ex2Lista2.csv')"
   ]
  },
  {
   "cell_type": "code",
   "execution_count": 3,
   "metadata": {
    "collapsed": false
   },
   "outputs": [
    {
     "data": {
      "text/html": [
       "<div>\n",
       "<table border=\"1\" class=\"dataframe\">\n",
       "  <thead>\n",
       "    <tr style=\"text-align: right;\">\n",
       "      <th></th>\n",
       "      <th>DB (t)</th>\n",
       "      <th>VEIPX US Equity</th>\n",
       "      <th>LCEAX US Equity</th>\n",
       "      <th>FLGEX US Equity</th>\n",
       "      <th>TRMCX US Equity</th>\n",
       "      <th>SPY US Equity</th>\n",
       "      <th>SPYV US Equity</th>\n",
       "      <th>SPYG US Equity</th>\n",
       "    </tr>\n",
       "  </thead>\n",
       "  <tbody>\n",
       "    <tr>\n",
       "      <th>0</th>\n",
       "      <td>1/2/13</td>\n",
       "      <td>24.70</td>\n",
       "      <td>13.79</td>\n",
       "      <td>11.37</td>\n",
       "      <td>24.54</td>\n",
       "      <td>146.0600</td>\n",
       "      <td>73.6700</td>\n",
       "      <td>67.2400</td>\n",
       "    </tr>\n",
       "    <tr>\n",
       "      <th>1</th>\n",
       "      <td>1/3/13</td>\n",
       "      <td>24.65</td>\n",
       "      <td>13.78</td>\n",
       "      <td>11.34</td>\n",
       "      <td>24.59</td>\n",
       "      <td>145.7341</td>\n",
       "      <td>73.8799</td>\n",
       "      <td>67.0100</td>\n",
       "    </tr>\n",
       "    <tr>\n",
       "      <th>2</th>\n",
       "      <td>1/4/13</td>\n",
       "      <td>24.76</td>\n",
       "      <td>13.87</td>\n",
       "      <td>11.37</td>\n",
       "      <td>24.81</td>\n",
       "      <td>146.3700</td>\n",
       "      <td>74.0500</td>\n",
       "      <td>67.2100</td>\n",
       "    </tr>\n",
       "    <tr>\n",
       "      <th>3</th>\n",
       "      <td>1/7/13</td>\n",
       "      <td>24.66</td>\n",
       "      <td>13.82</td>\n",
       "      <td>11.33</td>\n",
       "      <td>24.64</td>\n",
       "      <td>145.9695</td>\n",
       "      <td>73.8999</td>\n",
       "      <td>67.0600</td>\n",
       "    </tr>\n",
       "    <tr>\n",
       "      <th>4</th>\n",
       "      <td>1/8/13</td>\n",
       "      <td>24.57</td>\n",
       "      <td>13.76</td>\n",
       "      <td>11.32</td>\n",
       "      <td>24.58</td>\n",
       "      <td>145.5496</td>\n",
       "      <td>73.5600</td>\n",
       "      <td>66.9792</td>\n",
       "    </tr>\n",
       "  </tbody>\n",
       "</table>\n",
       "</div>"
      ],
      "text/plain": [
       "   DB (t)  VEIPX US Equity  LCEAX US Equity  FLGEX US Equity  TRMCX US Equity  \\\n",
       "0  1/2/13            24.70            13.79            11.37            24.54   \n",
       "1  1/3/13            24.65            13.78            11.34            24.59   \n",
       "2  1/4/13            24.76            13.87            11.37            24.81   \n",
       "3  1/7/13            24.66            13.82            11.33            24.64   \n",
       "4  1/8/13            24.57            13.76            11.32            24.58   \n",
       "\n",
       "   SPY US Equity  SPYV US Equity  SPYG US Equity  \n",
       "0       146.0600         73.6700         67.2400  \n",
       "1       145.7341         73.8799         67.0100  \n",
       "2       146.3700         74.0500         67.2100  \n",
       "3       145.9695         73.8999         67.0600  \n",
       "4       145.5496         73.5600         66.9792  "
      ]
     },
     "execution_count": 3,
     "metadata": {},
     "output_type": "execute_result"
    }
   ],
   "source": [
    "data.head()"
   ]
  },
  {
   "cell_type": "code",
   "execution_count": 4,
   "metadata": {
    "collapsed": false
   },
   "outputs": [
    {
     "data": {
      "text/html": [
       "<div>\n",
       "<table border=\"1\" class=\"dataframe\">\n",
       "  <thead>\n",
       "    <tr style=\"text-align: right;\">\n",
       "      <th></th>\n",
       "      <th>VEIPX US Equity</th>\n",
       "      <th>LCEAX US Equity</th>\n",
       "      <th>FLGEX US Equity</th>\n",
       "      <th>TRMCX US Equity</th>\n",
       "      <th>SPY US Equity</th>\n",
       "      <th>SPYV US Equity</th>\n",
       "      <th>SPYG US Equity</th>\n",
       "    </tr>\n",
       "    <tr>\n",
       "      <th>DB (t)</th>\n",
       "      <th></th>\n",
       "      <th></th>\n",
       "      <th></th>\n",
       "      <th></th>\n",
       "      <th></th>\n",
       "      <th></th>\n",
       "      <th></th>\n",
       "    </tr>\n",
       "  </thead>\n",
       "  <tbody>\n",
       "    <tr>\n",
       "      <th>1/2/13</th>\n",
       "      <td>24.70</td>\n",
       "      <td>13.79</td>\n",
       "      <td>11.37</td>\n",
       "      <td>24.54</td>\n",
       "      <td>146.0600</td>\n",
       "      <td>73.6700</td>\n",
       "      <td>67.2400</td>\n",
       "    </tr>\n",
       "    <tr>\n",
       "      <th>1/3/13</th>\n",
       "      <td>24.65</td>\n",
       "      <td>13.78</td>\n",
       "      <td>11.34</td>\n",
       "      <td>24.59</td>\n",
       "      <td>145.7341</td>\n",
       "      <td>73.8799</td>\n",
       "      <td>67.0100</td>\n",
       "    </tr>\n",
       "    <tr>\n",
       "      <th>1/4/13</th>\n",
       "      <td>24.76</td>\n",
       "      <td>13.87</td>\n",
       "      <td>11.37</td>\n",
       "      <td>24.81</td>\n",
       "      <td>146.3700</td>\n",
       "      <td>74.0500</td>\n",
       "      <td>67.2100</td>\n",
       "    </tr>\n",
       "    <tr>\n",
       "      <th>1/7/13</th>\n",
       "      <td>24.66</td>\n",
       "      <td>13.82</td>\n",
       "      <td>11.33</td>\n",
       "      <td>24.64</td>\n",
       "      <td>145.9695</td>\n",
       "      <td>73.8999</td>\n",
       "      <td>67.0600</td>\n",
       "    </tr>\n",
       "    <tr>\n",
       "      <th>1/8/13</th>\n",
       "      <td>24.57</td>\n",
       "      <td>13.76</td>\n",
       "      <td>11.32</td>\n",
       "      <td>24.58</td>\n",
       "      <td>145.5496</td>\n",
       "      <td>73.5600</td>\n",
       "      <td>66.9792</td>\n",
       "    </tr>\n",
       "  </tbody>\n",
       "</table>\n",
       "</div>"
      ],
      "text/plain": [
       "        VEIPX US Equity  LCEAX US Equity  FLGEX US Equity  TRMCX US Equity  \\\n",
       "DB (t)                                                                       \n",
       "1/2/13            24.70            13.79            11.37            24.54   \n",
       "1/3/13            24.65            13.78            11.34            24.59   \n",
       "1/4/13            24.76            13.87            11.37            24.81   \n",
       "1/7/13            24.66            13.82            11.33            24.64   \n",
       "1/8/13            24.57            13.76            11.32            24.58   \n",
       "\n",
       "        SPY US Equity  SPYV US Equity  SPYG US Equity  \n",
       "DB (t)                                                 \n",
       "1/2/13       146.0600         73.6700         67.2400  \n",
       "1/3/13       145.7341         73.8799         67.0100  \n",
       "1/4/13       146.3700         74.0500         67.2100  \n",
       "1/7/13       145.9695         73.8999         67.0600  \n",
       "1/8/13       145.5496         73.5600         66.9792  "
      ]
     },
     "execution_count": 4,
     "metadata": {},
     "output_type": "execute_result"
    }
   ],
   "source": [
    "data.set_index('DB (t)',inplace=True)\n",
    "# data = data.drop('SPY US Equity', 1)\n",
    "data.head()"
   ]
  },
  {
   "cell_type": "code",
   "execution_count": 30,
   "metadata": {
    "collapsed": false,
    "scrolled": true
   },
   "outputs": [
    {
     "data": {
      "text/html": [
       "<div>\n",
       "<table border=\"1\" class=\"dataframe\">\n",
       "  <thead>\n",
       "    <tr style=\"text-align: right;\">\n",
       "      <th></th>\n",
       "      <th>VEIPX US Equity</th>\n",
       "      <th>LCEAX US Equity</th>\n",
       "      <th>FLGEX US Equity</th>\n",
       "      <th>TRMCX US Equity</th>\n",
       "      <th>SPY US Equity</th>\n",
       "      <th>SPYV US Equity</th>\n",
       "      <th>SPYG US Equity</th>\n",
       "    </tr>\n",
       "    <tr>\n",
       "      <th>DB (t)</th>\n",
       "      <th></th>\n",
       "      <th></th>\n",
       "      <th></th>\n",
       "      <th></th>\n",
       "      <th></th>\n",
       "      <th></th>\n",
       "      <th></th>\n",
       "    </tr>\n",
       "  </thead>\n",
       "  <tbody>\n",
       "    <tr>\n",
       "      <th>1/3/13</th>\n",
       "      <td>-0.002026</td>\n",
       "      <td>-0.000725</td>\n",
       "      <td>-0.002642</td>\n",
       "      <td>0.002035</td>\n",
       "      <td>-0.002234</td>\n",
       "      <td>0.002845</td>\n",
       "      <td>-0.003426</td>\n",
       "    </tr>\n",
       "    <tr>\n",
       "      <th>1/4/13</th>\n",
       "      <td>0.004453</td>\n",
       "      <td>0.006510</td>\n",
       "      <td>0.002642</td>\n",
       "      <td>0.008907</td>\n",
       "      <td>0.004354</td>\n",
       "      <td>0.002300</td>\n",
       "      <td>0.002980</td>\n",
       "    </tr>\n",
       "    <tr>\n",
       "      <th>1/7/13</th>\n",
       "      <td>-0.004047</td>\n",
       "      <td>-0.003611</td>\n",
       "      <td>-0.003524</td>\n",
       "      <td>-0.006876</td>\n",
       "      <td>-0.002740</td>\n",
       "      <td>-0.002029</td>\n",
       "      <td>-0.002234</td>\n",
       "    </tr>\n",
       "    <tr>\n",
       "      <th>1/8/13</th>\n",
       "      <td>-0.003656</td>\n",
       "      <td>-0.004351</td>\n",
       "      <td>-0.000883</td>\n",
       "      <td>-0.002438</td>\n",
       "      <td>-0.002881</td>\n",
       "      <td>-0.004610</td>\n",
       "      <td>-0.001206</td>\n",
       "    </tr>\n",
       "    <tr>\n",
       "      <th>1/9/13</th>\n",
       "      <td>0.003656</td>\n",
       "      <td>0.002903</td>\n",
       "      <td>0.004407</td>\n",
       "      <td>0.002438</td>\n",
       "      <td>0.002542</td>\n",
       "      <td>0.001087</td>\n",
       "      <td>0.001949</td>\n",
       "    </tr>\n",
       "  </tbody>\n",
       "</table>\n",
       "</div>"
      ],
      "text/plain": [
       "        VEIPX US Equity  LCEAX US Equity  FLGEX US Equity  TRMCX US Equity  \\\n",
       "DB (t)                                                                       \n",
       "1/3/13        -0.002026        -0.000725        -0.002642         0.002035   \n",
       "1/4/13         0.004453         0.006510         0.002642         0.008907   \n",
       "1/7/13        -0.004047        -0.003611        -0.003524        -0.006876   \n",
       "1/8/13        -0.003656        -0.004351        -0.000883        -0.002438   \n",
       "1/9/13         0.003656         0.002903         0.004407         0.002438   \n",
       "\n",
       "        SPY US Equity  SPYV US Equity  SPYG US Equity  \n",
       "DB (t)                                                 \n",
       "1/3/13      -0.002234        0.002845       -0.003426  \n",
       "1/4/13       0.004354        0.002300        0.002980  \n",
       "1/7/13      -0.002740       -0.002029       -0.002234  \n",
       "1/8/13      -0.002881       -0.004610       -0.001206  \n",
       "1/9/13       0.002542        0.001087        0.001949  "
      ]
     },
     "execution_count": 30,
     "metadata": {},
     "output_type": "execute_result"
    }
   ],
   "source": [
    "returns = np.log(data.astype('float64')) - np.log(data.astype('float64').shift(1))\n",
    "returns = returns.iloc[1:,:]\n",
    "returns.head()"
   ]
  },
  {
   "cell_type": "code",
   "execution_count": 8,
   "metadata": {
    "collapsed": false,
    "scrolled": true
   },
   "outputs": [
    {
     "data": {
      "text/plain": [
       "<matplotlib.axes._subplots.AxesSubplot at 0x11783b6a0>"
      ]
     },
     "execution_count": 8,
     "metadata": {},
     "output_type": "execute_result"
    },
    {
     "data": {
      "image/png": "[encoded data removed]",
      "text/plain": [
       "<matplotlib.figure.Figure at 0x11782dcc0>"
      ]
     },
     "metadata": {},
     "output_type": "display_data"
    }
   ],
   "source": [
    "X.plot()"
   ]
  },
  {
   "cell_type": "markdown",
   "metadata": {},
   "source": [
    "# VEIPX US Equity"
   ]
  },
  {
   "cell_type": "code",
   "execution_count": 33,
   "metadata": {
    "collapsed": false
   },
   "outputs": [
    {
     "name": "stdout",
     "output_type": "stream",
     "text": [
      "                            OLS Regression Results                            \n",
      "==============================================================================\n",
      "Dep. Variable:        VEIPX US Equity   R-squared:                       0.885\n",
      "Model:                            OLS   Adj. R-squared:                  0.885\n",
      "Method:                 Least Squares   F-statistic:                     2353.\n",
      "Date:                Wed, 07 Sep 2016   Prob (F-statistic):               0.00\n",
      "Time:                        19:07:26   Log-Likelihood:                 4144.5\n",
      "No. Observations:                 921   AIC:                            -8281.\n",
      "Df Residuals:                     917   BIC:                            -8262.\n",
      "Df Model:                           3                                         \n",
      "Covariance Type:            nonrobust                                         \n",
      "==================================================================================\n",
      "                     coef    std err          t      P>|t|      [95.0% Conf. Int.]\n",
      "----------------------------------------------------------------------------------\n",
      "const          -8.591e-05   8.89e-05     -0.966      0.334        -0.000  8.86e-05\n",
      "SPY US Equity      0.9254      0.069     13.484      0.000         0.791     1.060\n",
      "SPYV US Equity     0.2213      0.040      5.557      0.000         0.143     0.299\n",
      "SPYG US Equity    -0.2320      0.046     -5.017      0.000        -0.323    -0.141\n",
      "==============================================================================\n",
      "Omnibus:                     1449.808   Durbin-Watson:                   2.128\n",
      "Prob(Omnibus):                  0.000   Jarque-Bera (JB):           685660.354\n",
      "Skew:                          -9.379   Prob(JB):                         0.00\n",
      "Kurtosis:                     135.346   Cond. No.                         954.\n",
      "==============================================================================\n",
      "\n",
      "Warnings:\n",
      "[1] Standard Errors assume that the covariance matrix of the errors is correctly specified.\n"
     ]
    }
   ],
   "source": [
    "Y = returns['VEIPX US Equity']\n",
    "# X = np.array(returns[['SPY US Equity']].iloc[1:])\n",
    "# X = returns[['SPY US Equity']]\n",
    "X = returns[['SPY US Equity','SPYV US Equity','SPYG US Equity']]\n",
    "# X = returns['LCEAX US Equity']\n",
    "X = sm.add_constant(X)\n",
    "model = sm.OLS(Y,X)\n",
    "results = model.fit()\n",
    "print(results.summary())"
   ]
  },
  {
   "cell_type": "markdown",
   "metadata": {},
   "source": [
    "# LCEAX US Equity"
   ]
  },
  {
   "cell_type": "code",
   "execution_count": 34,
   "metadata": {
    "collapsed": false
   },
   "outputs": [
    {
     "name": "stdout",
     "output_type": "stream",
     "text": [
      "                            OLS Regression Results                            \n",
      "==============================================================================\n",
      "Dep. Variable:        LCEAX US Equity   R-squared:                       0.863\n",
      "Model:                            OLS   Adj. R-squared:                  0.863\n",
      "Method:                 Least Squares   F-statistic:                     1926.\n",
      "Date:                Wed, 07 Sep 2016   Prob (F-statistic):               0.00\n",
      "Time:                        19:07:27   Log-Likelihood:                 4139.7\n",
      "No. Observations:                 921   AIC:                            -8271.\n",
      "Df Residuals:                     917   BIC:                            -8252.\n",
      "Df Model:                           3                                         \n",
      "Covariance Type:            nonrobust                                         \n",
      "==================================================================================\n",
      "                     coef    std err          t      P>|t|      [95.0% Conf. Int.]\n",
      "----------------------------------------------------------------------------------\n",
      "const           2.173e-05   8.94e-05      0.243      0.808        -0.000     0.000\n",
      "SPY US Equity      0.9768      0.069     14.159      0.000         0.841     1.112\n",
      "SPYV US Equity     0.1403      0.040      3.504      0.000         0.062     0.219\n",
      "SPYG US Equity    -0.2903      0.046     -6.245      0.000        -0.382    -0.199\n",
      "==============================================================================\n",
      "Omnibus:                     1190.366   Durbin-Watson:                   2.021\n",
      "Prob(Omnibus):                  0.000   Jarque-Bera (JB):           405305.787\n",
      "Skew:                          -6.379   Prob(JB):                         0.00\n",
      "Kurtosis:                     104.975   Cond. No.                         954.\n",
      "==============================================================================\n",
      "\n",
      "Warnings:\n",
      "[1] Standard Errors assume that the covariance matrix of the errors is correctly specified.\n"
     ]
    }
   ],
   "source": [
    "Y = returns['LCEAX US Equity']\n",
    "# X = np.array(returns[['SPY US Equity']].iloc[1:])\n",
    "# X = returns[['SPY US Equity']]\n",
    "X = returns[['SPY US Equity','SPYV US Equity','SPYG US Equity']]\n",
    "# X = returns['LCEAX US Equity']\n",
    "X = sm.add_constant(X)\n",
    "model = sm.OLS(Y,X)\n",
    "results = model.fit()\n",
    "print(results.summary())"
   ]
  },
  {
   "cell_type": "markdown",
   "metadata": {},
   "source": [
    "# FLGEX US Equity"
   ]
  },
  {
   "cell_type": "code",
   "execution_count": 35,
   "metadata": {
    "collapsed": false
   },
   "outputs": [
    {
     "name": "stdout",
     "output_type": "stream",
     "text": [
      "                            OLS Regression Results                            \n",
      "==============================================================================\n",
      "Dep. Variable:        FLGEX US Equity   R-squared:                       0.879\n",
      "Model:                            OLS   Adj. R-squared:                  0.879\n",
      "Method:                 Least Squares   F-statistic:                     2222.\n",
      "Date:                Wed, 07 Sep 2016   Prob (F-statistic):               0.00\n",
      "Time:                        19:07:28   Log-Likelihood:                 3990.6\n",
      "No. Observations:                 921   AIC:                            -7973.\n",
      "Df Residuals:                     917   BIC:                            -7954.\n",
      "Df Model:                           3                                         \n",
      "Covariance Type:            nonrobust                                         \n",
      "==================================================================================\n",
      "                     coef    std err          t      P>|t|      [95.0% Conf. Int.]\n",
      "----------------------------------------------------------------------------------\n",
      "const             -0.0002      0.000     -1.429      0.153        -0.000   5.6e-05\n",
      "SPY US Equity      0.7676      0.081      9.464      0.000         0.608     0.927\n",
      "SPYV US Equity    -0.1679      0.047     -3.567      0.000        -0.260    -0.076\n",
      "SPYG US Equity     0.4222      0.055      7.725      0.000         0.315     0.529\n",
      "==============================================================================\n",
      "Omnibus:                     1573.276   Durbin-Watson:                   2.061\n",
      "Prob(Omnibus):                  0.000   Jarque-Bera (JB):          1079216.448\n",
      "Skew:                         -10.975   Prob(JB):                         0.00\n",
      "Kurtosis:                     169.256   Cond. No.                         954.\n",
      "==============================================================================\n",
      "\n",
      "Warnings:\n",
      "[1] Standard Errors assume that the covariance matrix of the errors is correctly specified.\n"
     ]
    }
   ],
   "source": [
    "Y = returns['FLGEX US Equity']\n",
    "# X = np.array(returns[['SPY US Equity']].iloc[1:])\n",
    "# X = returns[['SPY US Equity']]\n",
    "X = returns[['SPY US Equity','SPYV US Equity','SPYG US Equity']]\n",
    "# X = returns['LCEAX US Equity']\n",
    "X = sm.add_constant(X)\n",
    "model = sm.OLS(Y,X)\n",
    "results = model.fit()\n",
    "print(results.summary())"
   ]
  },
  {
   "cell_type": "markdown",
   "metadata": {},
   "source": [
    "# TRMCX US Equity"
   ]
  },
  {
   "cell_type": "code",
   "execution_count": 36,
   "metadata": {
    "collapsed": false
   },
   "outputs": [
    {
     "name": "stdout",
     "output_type": "stream",
     "text": [
      "                            OLS Regression Results                            \n",
      "==============================================================================\n",
      "Dep. Variable:        TRMCX US Equity   R-squared:                       0.560\n",
      "Model:                            OLS   Adj. R-squared:                  0.559\n",
      "Method:                 Least Squares   F-statistic:                     389.6\n",
      "Date:                Wed, 07 Sep 2016   Prob (F-statistic):          4.16e-163\n",
      "Time:                        19:07:28   Log-Likelihood:                 3269.0\n",
      "No. Observations:                 921   AIC:                            -6530.\n",
      "Df Residuals:                     917   BIC:                            -6511.\n",
      "Df Model:                           3                                         \n",
      "Covariance Type:            nonrobust                                         \n",
      "==================================================================================\n",
      "                     coef    std err          t      P>|t|      [95.0% Conf. Int.]\n",
      "----------------------------------------------------------------------------------\n",
      "const             -0.0002      0.000     -0.849      0.396        -0.001     0.000\n",
      "SPY US Equity      0.9004      0.178      5.071      0.000         0.552     1.249\n",
      "SPYV US Equity     0.3936      0.103      3.820      0.000         0.191     0.596\n",
      "SPYG US Equity    -0.3276      0.120     -2.739      0.006        -0.562    -0.093\n",
      "==============================================================================\n",
      "Omnibus:                     1820.592   Durbin-Watson:                   2.039\n",
      "Prob(Omnibus):                  0.000   Jarque-Bera (JB):          2881322.455\n",
      "Skew:                         -14.730   Prob(JB):                         0.00\n",
      "Kurtosis:                     275.425   Cond. No.                         954.\n",
      "==============================================================================\n",
      "\n",
      "Warnings:\n",
      "[1] Standard Errors assume that the covariance matrix of the errors is correctly specified.\n"
     ]
    }
   ],
   "source": [
    "Y = returns['TRMCX US Equity']\n",
    "# X = np.array(returns[['SPY US Equity']].iloc[1:])\n",
    "# X = returns[['SPY US Equity']]\n",
    "X = returns[['SPY US Equity','SPYV US Equity','SPYG US Equity']]\n",
    "# X = returns['LCEAX US Equity']\n",
    "X = sm.add_constant(X)\n",
    "model = sm.OLS(Y,X)\n",
    "results = model.fit()\n",
    "print(results.summary())"
   ]
  }
 ],
 "metadata": {
  "kernelspec": {
   "display_name": "Python 3",
   "language": "python",
   "name": "python3"
  },
  "language_info": {
   "codemirror_mode": {
    "name": "ipython",
    "version": 3
   },
   "file_extension": ".py",
   "mimetype": "text/x-python",
   "name": "python",
   "nbconvert_exporter": "python",
   "pygments_lexer": "ipython3",
   "version": "3.5.1"
  }
 },
 "nbformat": 4,
 "nbformat_minor": 0
}
